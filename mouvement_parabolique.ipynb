{
 "cells": [
  {
   "cell_type": "markdown",
   "metadata": {},
   "source": [
    "# 4. Étude de la variation du vecteur vitesse au cours du mouvement"
   ]
  },
  {
   "cell_type": "markdown",
   "metadata": {},
   "source": [
    "## Quel est cet environnement de travail ?\n",
    "\n",
    "[Binder](https://jupyter.org/binder), l'outil que vous utilisez en ce moment, permet d'exécuer facilement du code en ligne, afin de nous épargner l'installation du language utilisé et des dépendances de notre code (du code écrit par d'autres, nécessaire à notre code à nous et qu'on importe en début de programme) sur nos ordinateurs locaux.\n",
    "\n",
    "Ce fichier que vous venez de charger sur Binder et que vous êtes en train de lire est ce qu'on appelle un \"Notebook Jupyter\".\n",
    "\n",
    "C'est un type de fichier un peu particulier permettant de regrouper du texte mis en forme et en page et du code exécutable en différents languages de programmation, historiquement [Julia](https://julialang.org/), [Python](https://www.python.org/) et [R](https://www.r-project.org/).\\\n",
    "Un Notebook Jupyter est organisé en cellules, chacune étant soit du texte, soit du code exécutable.\n",
    "\n",
    "Nous utiliserons par la suite le language Python que vous connaissez déjà."
   ]
  },
  {
   "cell_type": "markdown",
   "metadata": {},
   "source": [
    "## Comment éxécuter du code dans un Notebook Jupyter ?\n",
    "\n",
    "Rien de plus simple, il suffit de cliquer dans la cellule de code et de l'éxécuter en appuyant sur les touches Ctrl + Enter de votre clavier.\\\n",
    "Essayez avec la courte instruction suivante :"
   ]
  },
  {
   "cell_type": "code",
   "execution_count": null,
   "metadata": {},
   "outputs": [],
   "source": [
    "print(\"Hello World !\")"
   ]
  },
  {
   "cell_type": "markdown",
   "metadata": {},
   "source": [
    "Normalement, le résultat de cette instruction a du s'afficher sous la cellule de code : \"Hello World !\".\\\n",
    "La fonction print() permettant simplement d'afficher le contenu qu'on lui passe en argument entre ses parenthèses.\n",
    "\n",
    "À votre tour, dans la cellule vide suivante, réutilisez la fonction print() pour faire écrire par Python la phrase de votre choix."
   ]
  },
  {
   "cell_type": "code",
   "execution_count": null,
   "metadata": {},
   "outputs": [],
   "source": []
  },
  {
   "cell_type": "markdown",
   "metadata": {},
   "source": [
    "Si vous avez réussi, bravo, sinon il faut essayer de comprendre le message d'erreur obtenu afin de corriger votre code.\\\n",
    "Pensez par exemple bien à encadrer une phrase de guillemets.\n",
    "\n",
    "Vous savez maintenant vous servir des fonctionnalités de base d'un Notebook Jupyter dont on va avoir besoin ensuite."
   ]
  },
  {
   "cell_type": "markdown",
   "metadata": {},
   "source": [
    "## Retournons donc à nos moutons"
   ]
  },
  {
   "cell_type": "markdown",
   "metadata": {},
   "source": [
    "Tout d'abord, il faut importer vos données expérimentales que vous avez stockées dans le fichier \"valeurs mouvement parabolique.txt\" dans votre environnement de travail.\\\n",
    "Utilisez pour cela le bouton \"Upload Files\" en haut à gauche :\n",
    "\n",
    "![title](img/upload.png)\n",
    "\n",
    "Une fois fait utilisez maintenant les cellules de code suivantes pour générer les tracés graphiques que nous exploiterons ensuite."
   ]
  },
  {
   "cell_type": "markdown",
   "metadata": {},
   "source": [
    "### Importation des bibliothèques nécessaires pour le tracé de graphiques et la gestion des listes."
   ]
  },
  {
   "cell_type": "code",
   "execution_count": null,
   "metadata": {},
   "outputs": [],
   "source": [
    "import numpy as np\n",
    "np"
   ]
  },
  {
   "cell_type": "code",
   "execution_count": null,
   "metadata": {},
   "outputs": [],
   "source": [
    "import matplotlib.pyplot as plt\n",
    "plt"
   ]
  },
  {
   "cell_type": "markdown",
   "metadata": {},
   "source": [
    "### Définition de la fonction readCol()"
   ]
  },
  {
   "cell_type": "markdown",
   "metadata": {},
   "source": [
    "Elle sera utilisée pour récupérer les données du fichier \"valeurs mouvement parabolique.txt\"."
   ]
  },
  {
   "cell_type": "code",
   "execution_count": null,
   "metadata": {},
   "outputs": [],
   "source": [
    "def readCol(n):\n",
    "    col = np.loadtxt(nom_fichier, dtype=str, delimiter=sep, skiprows=u, usecols=[n])\n",
    "    col = [float(elmt.replace(\",\", \".\")) for elmt in col]  # On remplace les , par des .\n",
    "    return col\n",
    "\n",
    "# On s'assure que la fonction est bien créée\n",
    "type(readCol)"
   ]
  },
  {
   "cell_type": "markdown",
   "metadata": {},
   "source": [
    "### Définition des paramètres la fonction readCol()"
   ]
  },
  {
   "cell_type": "code",
   "execution_count": null,
   "metadata": {},
   "outputs": [],
   "source": [
    "nom_fichier=\"valeurs mouvement parabolique.txt\" # Doit être identique au nom de votre fichier à vous\n",
    "sep=\"\\t\"        # La séparation est une tabulation\n",
    "u = 1          # On saute la première ligne du fichier avant de commencer à récupérer les données (non nécessaire si la ligne commence par #)\n",
    "\n",
    "# On s'assure que les paramètres sont bien définis\n",
    "print(f\"nom_fichier = {nom_fichier}\")\n",
    "print(f\"sep = {sep} (tabulation)\")\n",
    "print(f\"u = {u}\")"
   ]
  },
  {
   "cell_type": "markdown",
   "metadata": {},
   "source": [
    "### Extraction et stockage des données contenues dans \"valeurs mouvement parabolique.txt\""
   ]
  },
  {
   "cell_type": "markdown",
   "metadata": {},
   "source": [
    "On applique la fonction readCol() au fichier de données qui doit se trouver dans le même répertoire que le Notebook Jupyter.\\\n",
    "Les valeurs de chaque colonne sont stockées dans les objets t, x ou y.\\\n",
    "On peut afficher les objets avec la function print() encore une fois."
   ]
  },
  {
   "cell_type": "code",
   "execution_count": null,
   "metadata": {},
   "outputs": [],
   "source": [
    "t = readCol(0)  # Première colonne\n",
    "print(t)"
   ]
  },
  {
   "cell_type": "code",
   "execution_count": null,
   "metadata": {},
   "outputs": [],
   "source": [
    "x = readCol(1)  # Seconde colonne\n",
    "print(x)"
   ]
  },
  {
   "cell_type": "code",
   "execution_count": null,
   "metadata": {},
   "outputs": [],
   "source": [
    "y = readCol(2)  # Troisième colonne\n",
    "print(y)"
   ]
  },
  {
   "cell_type": "markdown",
   "metadata": {},
   "source": [
    "### Traçons maintenant la courbe brute"
   ]
  },
  {
   "cell_type": "code",
   "execution_count": null,
   "metadata": {},
   "outputs": [],
   "source": [
    "vxl = [] # on crée une liste vide\n",
    "m = np.arange(len(t) - 2)  # on crée une liste d'entiers qui va aller jusqu'à N-2\n",
    "# pour pouvoir faire des différences finies jusqu'à N-2\n",
    "\n",
    "for i in m:  # on lance la boucle\n",
    "    vx = (x[i + 2] - x[i]) / (\n",
    "        t[i + 2] - t[i]\n",
    "    )  # on calcule la vitesse par la méthode des différences de i à i+2\n",
    "    vxl.append(vx)  # on complète la liste des vxl\n",
    "\n",
    "vyl = []  # idem pour vyl\n",
    "m = np.arange(len(t) - 2)\n",
    "for i in m:\n",
    "    vy = (y[i + 2] - y[i]) / (t[i + 2] - t[i])\n",
    "    vyl.append(vy)\n",
    "\n",
    "# Idem pour l'accélération, mais il faut là encore faire attention à la taille de la liste\n",
    "axl = []\n",
    "m = np.arange(len(t) - 4)\n",
    "for i in m:\n",
    "    ax = (vxl[i + 2] - vxl[i]) / (t[i + 2] - t[i])\n",
    "    axl.append(ax)\n",
    "\n",
    "ayl = []\n",
    "m = np.arange(len(t) - 4)\n",
    "for i in m:\n",
    "    ay = (vyl[i + 2] - vyl[i]) / (t[i + 2] - t[i])\n",
    "    ayl.append(ay)\n",
    "m = np.arange(1, len(t) - 4)\n",
    "\n",
    "\n",
    "# Tracé de la courbe avec options classiques\n",
    "m = np.arange(0, len(t) - 4)\n",
    "ath = 0 * m - 9.8\n",
    "mod = np.polyfit(m, ayl, 0)  # on modélise l'évolution précédente par une constante\n",
    "moda = (\n",
    "    0 * m + mod[0]\n",
    ")  # on définit une liste de valeurs de cette constante, pour pouvoir la tracer.\n",
    "\n",
    "plt.figure()\n",
    "plt.plot(m, ayl, \"bo-\", label=\"a réelle\")\n",
    "plt.legend()\n",
    "plt.grid()\n",
    "plt.ylim(-20, 0)\n",
    "plt.plot(m, ath, \"r-\", label=\"g\")\n",
    "plt.legend()\n",
    "plt.plot(m, moda, \"g-\", label=\"moyenne\")\n",
    "plt.legend()\n",
    "plt.xlabel(\"points de la trajectoire\")\n",
    "plt.ylabel(\"accélération verticale réelle\")\n",
    "plt.title(\"Comparaison entre variation de vitesse et intensité de la pesanteur\")\n",
    "plt.show()\n",
    "print(round(mod[0], 1))"
   ]
  },
  {
   "cell_type": "markdown",
   "metadata": {},
   "source": [
    "### Et traçons enfin la courbe retravaillée"
   ]
  },
  {
   "cell_type": "code",
   "execution_count": null,
   "metadata": {},
   "outputs": [],
   "source": [
    "# Tracé de la courbe retravaillé\n",
    "plt.figure()\n",
    "for i in m:\n",
    "    plt.arrow(x[i + 2], y[i + 2], 0.02 * axl[i], 0.02 * ayl[i], head_width=0.03)\n",
    "    # on fait tracer des vecteurs variation de vitesse de positions initiales x[i+2],y[i+2], de coordonnées 0.02*axl[i]\n",
    "    # et idem pour uy, avec une largeur de tête donnée\n",
    "    plt.arrow(x[i + 2], y[i + 2], 0, -0.02 * 9.8, fc=\"r\", ec=\"r\", head_width=0.03)\n",
    "# on fait tracer les vecteurs accélération théoriques (verticaux, de norme 9.8, avec une correction d'échelle 0.02)\n",
    "plt.xlim(0, 2)\n",
    "plt.ylim(0, 1.2)\n",
    "plt.grid()\n",
    "plt.plot(x, y, \"bo-\")\n",
    "plt.xlabel(\"xreelle\")\n",
    "plt.ylabel(\"yreelle\")\n",
    "plt.title(\"Comparaison entre variation de vitesse et intensité de la pesanteur\")\n",
    "plt.show()"
   ]
  },
  {
   "cell_type": "markdown",
   "metadata": {},
   "source": [
    "### Pour la suite, reprenez votre fascicule, à la partie 5"
   ]
  }
 ],
 "metadata": {
  "kernelspec": {
   "display_name": "Python 3",
   "language": "python",
   "name": "python3"
  },
  "language_info": {
   "codemirror_mode": {
    "name": "ipython",
    "version": 3
   },
   "file_extension": ".py",
   "mimetype": "text/x-python",
   "name": "python",
   "nbconvert_exporter": "python",
   "pygments_lexer": "ipython3",
   "version": "3.11.6"
  }
 },
 "nbformat": 4,
 "nbformat_minor": 2
}
