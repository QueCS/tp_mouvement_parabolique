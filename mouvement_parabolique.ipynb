{
 "cells": [
  {
   "cell_type": "markdown",
   "metadata": {},
   "source": [
    "# 4. Étude de la variation du vecteur vitesse au cours du mouvement"
   ]
  },
  {
   "cell_type": "markdown",
   "metadata": {},
   "source": [
    "## Quel est cet environnement de travail ?\n",
    "\n",
    "[Binder](https://jupyter.org/binder), l'outil que vous utilisez en ce moment, permet d'exécuer du code en ligne, afin de nous épargner l'installation du languagesur nos ordinateurs locaux.\n",
    "\n",
    "Ce fichier que vous venez de charger sur Binder et que vous êtes en train de lire est ce qu'on appelle un \"Notebook Jupyter\".\n",
    "\n",
    "C'est un type de fichier un peu particulier permettant de regrouper du texte mis en forme et en page et du code exécutable en différents languages de programmation, historiquement [Julia](https://fr.wikipedia.org/wiki/Julia_(langage)), [Python](https://fr.wikipedia.org/wiki/Python_(langage)) et [R](https://fr.wikipedia.org/wiki/R_(langage)).\\\n",
    "Un Notebook Jupyter est organisé en sections, chacune étant soit du texte, soit du code exécutable.\n",
    "\n",
    "Nous utiliserons par la suite le language Python que vous connaissez déjà."
   ]
  },
  {
   "cell_type": "markdown",
   "metadata": {},
   "source": [
    "## Comment éxécuter du code dans un Notebook Jupyter ?\n",
    "\n",
    "Rien de plus simple, il suffit de cliquer dans la cellule de code et de l'éxécuter en appuyant sur les touches Ctrl + Enter de votre clavier.\\\n",
    "Essayez avec la courte instruction suivante :"
   ]
  },
  {
   "cell_type": "code",
   "execution_count": null,
   "metadata": {},
   "outputs": [],
   "source": [
    "print('Hello World !')"
   ]
  },
  {
   "cell_type": "markdown",
   "metadata": {},
   "source": [
    "Normalement, le résultat de cette instruction a du s'afficher sous la cellule de code : \"Hello World !\".\\\n",
    "La fonction print() permettant simplement d'afficher le contenu qu'on lui donne entre ses parenthèses."
   ]
  }
 ],
 "metadata": {
  "kernelspec": {
   "display_name": "Python 3",
   "language": "python",
   "name": "python3"
  },
  "language_info": {
   "codemirror_mode": {
    "name": "ipython",
    "version": 3
   },
   "file_extension": ".py",
   "mimetype": "text/x-python",
   "name": "python",
   "nbconvert_exporter": "python",
   "pygments_lexer": "ipython3",
   "version": "3.11.6"
  }
 },
 "nbformat": 4,
 "nbformat_minor": 2
}
