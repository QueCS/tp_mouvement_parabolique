{
 "cells": [
  {
   "cell_type": "markdown",
   "metadata": {},
   "source": [
    "# 4. Étude de la variation du vecteur vitesse au cours du mouvement"
   ]
  },
  {
   "cell_type": "markdown",
   "metadata": {},
   "source": [
    "## Quel est cet environnement de travail ?\n",
    "\n",
    "[Binder](https://jupyter.org/binder), l'outil que vous utilisez en ce moment, permet d'exécuer du code en ligne, afin de nous épargner l'installation du languagesur nos ordinateurs locaux.\n",
    "\n",
    "Ce fichier que vous venez de charger et que vous êtes en train de lire est ce qu'on appelle un \"Notebook Jupyter\".\n",
    "\n",
    "C'est un type de fichier un peu particulier permettant de regrouper du texte mis en forme et en page et code exécutable en différents languages de programmation, historiquement :\\\n",
    "\"Ju\" pour [Julia](https://fr.wikipedia.org/wiki/Julia_(langage)), \"pyt\" pour [Python](https://fr.wikipedia.org/wiki/Python_(langage)) et \"er\" pour [R](https://fr.wikipedia.org/wiki/R_(langage)).\n",
    "\n",
    "Nous utiliserons par la suite le language Python que vous connaissez déjà.\n",
    "\n"
   ]
  },
  {
   "cell_type": "markdown",
   "metadata": {},
   "source": [
    "## Comment éxécuter du code dans un Notebook Jupyter ?\n",
    "\n",
    "Rien de plus simple, il suffit de cliquer sur le bouton \"Execute Cell\" qui ressemble à un bouton \"Play\" à côté d'une cellule de code.\\\n",
    "Essayez avec la courte instruction suivante :"
   ]
  },
  {
   "cell_type": "code",
   "execution_count": 2,
   "metadata": {},
   "outputs": [
    {
     "name": "stdout",
     "output_type": "stream",
     "text": [
      "Hello World !\n"
     ]
    }
   ],
   "source": [
    "print('Hello World !')"
   ]
  }
 ],
 "metadata": {
  "kernelspec": {
   "display_name": "Python 3",
   "language": "python",
   "name": "python3"
  },
  "language_info": {
   "codemirror_mode": {
    "name": "ipython",
    "version": 3
   },
   "file_extension": ".py",
   "mimetype": "text/x-python",
   "name": "python",
   "nbconvert_exporter": "python",
   "pygments_lexer": "ipython3",
   "version": "3.11.6"
  }
 },
 "nbformat": 4,
 "nbformat_minor": 2
}
